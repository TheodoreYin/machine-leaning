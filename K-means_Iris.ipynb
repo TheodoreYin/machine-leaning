{
 "cells": [
  {
   "cell_type": "code",
   "execution_count": 10,
   "metadata": {
    "collapsed": false
   },
   "outputs": [
    {
     "name": "stdout",
     "output_type": "stream",
     "text": [
      "(150, 4)\n",
      "[ 5.1  3.5  1.4  0.2]\n"
     ]
    }
   ],
   "source": [
    "from sklearn.datasets import load_iris\n",
    "iris = load_iris()\n",
    "print(iris.data.shape)\n",
    "print(iris.data[0])"
   ]
  },
  {
   "cell_type": "code",
   "execution_count": 11,
   "metadata": {
    "collapsed": true
   },
   "outputs": [],
   "source": [
    "from sklearn.cross_validation import train_test_split\n",
    "Xtrain, Xtest, ytrain, ytest = train_test_split(iris.data, iris.target, test_size=0.25, random_state=233)\n"
   ]
  },
  {
   "cell_type": "code",
   "execution_count": 16,
   "metadata": {
    "collapsed": false
   },
   "outputs": [
    {
     "data": {
      "text/plain": [
       "array([ 1.,  1.,  1.,  1.])"
      ]
     },
     "execution_count": 16,
     "metadata": {},
     "output_type": "execute_result"
    }
   ],
   "source": [
    "from sklearn.preprocessing import scale\n",
    "Xtrain, Xtest = scale(Xtrain), scale(Xtest)\n",
    "Xtrain.std(axis=0)"
   ]
  },
  {
   "cell_type": "code",
   "execution_count": 13,
   "metadata": {
    "collapsed": false
   },
   "outputs": [
    {
     "name": "stdout",
     "output_type": "stream",
     "text": [
      "1 neighbors accurancy: 0.9736842105263158\n",
      "2 neighbors accurancy: 0.9736842105263158\n",
      "3 neighbors accurancy: 0.9736842105263158\n",
      "4 neighbors accurancy: 0.9736842105263158\n",
      "5 neighbors accurancy: 0.9736842105263158\n",
      "6 neighbors accurancy: 0.9736842105263158\n",
      "7 neighbors accurancy: 1.0\n",
      "8 neighbors accurancy: 1.0\n",
      "9 neighbors accurancy: 1.0\n",
      "10 neighbors accurancy: 1.0\n",
      "The best neighbor is : {'n_jobs': 1, 'metric': 'minkowski', 'weights': 'uniform', 'n_neighbors': 7, 'metric_params': None, 'leaf_size': 30, 'p': 2, 'algorithm': 'auto'}\n",
      "Accurancy: 1.0\n"
     ]
    },
    {
     "data": {
      "text/plain": [
       "KNeighborsClassifier(algorithm='auto', leaf_size=30, metric='minkowski',\n",
       "           metric_params=None, n_jobs=1, n_neighbors=7, p=2,\n",
       "           weights='uniform')"
      ]
     },
     "execution_count": 13,
     "metadata": {},
     "output_type": "execute_result"
    }
   ],
   "source": [
    "from sklearn.neighbors import KNeighborsClassifier\n",
    "def find_best_neighbors(n):\n",
    "    best_neighbor = None\n",
    "    best_score = 0\n",
    "    for i in range(1, n + 1):\n",
    "        kn = KNeighborsClassifier(i)\n",
    "        kn.fit(Xtrain, ytrain)\n",
    "        score = kn.score(Xtest, ytest)\n",
    "        print(\"{0} neighbors accurancy: {1}\".format(i, score))\n",
    "        if score > best_score:\n",
    "            best_neighbor = kn\n",
    "            best_score = score\n",
    "    print(\"The best neighbor is : {0}\\nAccurancy: {1}\".format(best_neighbor.get_params(), best_score))\n",
    "    return best_neighbor\n",
    "find_best_neighbors(10)"
   ]
  },
  {
   "cell_type": "code",
   "execution_count": null,
   "metadata": {
    "collapsed": true
   },
   "outputs": [],
   "source": []
  }
 ],
 "metadata": {
  "kernelspec": {
   "display_name": "Python 3",
   "language": "python",
   "name": "python3"
  },
  "language_info": {
   "codemirror_mode": {
    "name": "ipython",
    "version": 3
   },
   "file_extension": ".py",
   "mimetype": "text/x-python",
   "name": "python",
   "nbconvert_exporter": "python",
   "pygments_lexer": "ipython3",
   "version": "3.5.1"
  }
 },
 "nbformat": 4,
 "nbformat_minor": 2
}
