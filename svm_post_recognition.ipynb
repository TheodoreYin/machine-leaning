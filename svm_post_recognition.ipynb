{
 "cells": [
  {
   "cell_type": "code",
   "execution_count": 2,
   "metadata": {
    "collapsed": false
   },
   "outputs": [
    {
     "data": {
      "text/plain": [
       "(1797, 64)"
      ]
     },
     "execution_count": 2,
     "metadata": {},
     "output_type": "execute_result"
    }
   ],
   "source": [
    "from sklearn.datasets import load_digits\n",
    "digits = load_digits()\n",
    "digits.data.shape"
   ]
  },
  {
   "cell_type": "code",
   "execution_count": 8,
   "metadata": {
    "collapsed": false
   },
   "outputs": [
    {
     "data": {
      "text/plain": [
       "<matplotlib.image.AxesImage at 0x71e60cc>"
      ]
     },
     "execution_count": 8,
     "metadata": {},
     "output_type": "execute_result"
    },
    {
     "data": {
      "image/png": "[encoded data removed]",
      "text/plain": [
       "<matplotlib.figure.Figure at 0x7064dac>"
      ]
     },
     "metadata": {},
     "output_type": "display_data"
    },
    {
     "data": {
      "image/png": "[encoded data removed]",
      "text/plain": [
       "<matplotlib.figure.Figure at 0x707eaac>"
      ]
     },
     "metadata": {},
     "output_type": "display_data"
    }
   ],
   "source": [
    "import matplotlib.pyplot as plt\n",
    "%matplotlib inline\n",
    "\n",
    "plt.matshow(digits.images[0])\n",
    "plt.matshow(digits.images[1])"
   ]
  },
  {
   "cell_type": "code",
   "execution_count": 21,
   "metadata": {
    "collapsed": false
   },
   "outputs": [
    {
     "name": "stderr",
     "output_type": "stream",
     "text": [
      "/Library/Frameworks/Python.framework/Versions/3.5/lib/python3.5/site-packages/sklearn/preprocessing/data.py:177: UserWarning: Numerical issues were encountered when scaling the data and might not be solved. The standard deviation of the data is probably very close to 0. \n",
      "  warnings.warn(\"Numerical issues were encountered \"\n"
     ]
    },
    {
     "data": {
      "text/plain": [
       "array([  0.00000000e+00,   1.27012152e-16,   1.29979340e-16,\n",
       "         9.56094067e-18,  -1.40117234e-18,  -1.20335977e-17,\n",
       "        -1.23632854e-16,   3.89979231e-16,   8.99408404e-16,\n",
       "        -8.34933871e-17,  -5.43572446e-17,  -1.97812566e-18,\n",
       "        -8.15976833e-18,   3.28312194e-16,  -5.40687679e-17,\n",
       "        -2.97749122e-16,   2.27247488e-16,   3.16335261e-16,\n",
       "         2.21879761e-16,   7.20367427e-17,  -3.66777465e-18,\n",
       "        -4.80519691e-17,   4.34281003e-16,  -2.84499801e-16,\n",
       "         1.28124847e-16,  -3.29440344e-16,   1.07148473e-16,\n",
       "         1.39705124e-17,  -8.69551070e-17,   3.37929800e-17,\n",
       "         2.73970403e-16,  -5.52340076e-16,   0.00000000e+00,\n",
       "        -4.50188431e-16,  -2.31440702e-16,  -6.90283432e-18,\n",
       "         3.11142681e-18,   8.97574517e-16,   2.04612373e-16,\n",
       "         0.00000000e+00,  -1.10095056e-16,  -4.82992348e-17,\n",
       "         3.13203229e-18,  -4.87937662e-17,   3.64634496e-16,\n",
       "        -2.67871183e-16,  -1.27723040e-16,  -6.37327360e-17,\n",
       "        -5.28736504e-17,   1.73415683e-16,  -1.21325040e-16,\n",
       "        -1.21860783e-16,  -7.02234608e-17,  -9.09113583e-17,\n",
       "        -1.99254949e-17,  -1.91919400e-16,   4.05155164e-17,\n",
       "         3.64222386e-16,   1.54953176e-16,  -1.80833654e-16,\n",
       "        -1.00719565e-16,  -6.56078343e-17,  -3.70980982e-16,\n",
       "        -7.26549069e-17])"
      ]
     },
     "execution_count": 21,
     "metadata": {},
     "output_type": "execute_result"
    }
   ],
   "source": [
    "from sklearn.cross_validation import train_test_split\n",
    "from sklearn.preprocessing import scale\n",
    "X_train, X_test, y_train, y_test = train_test_split(digits.data, digits.target, test_size=0.25, random_state=233)\n",
    "X_train, X_test = scale(X_train), scale(X_test)\n",
    "X_train.mean(axis=0)"
   ]
  },
  {
   "cell_type": "code",
   "execution_count": 29,
   "metadata": {
    "collapsed": false
   },
   "outputs": [
    {
     "name": "stdout",
     "output_type": "stream",
     "text": [
      "rbf SVC Accuracy: 0.975555555556\n",
      "             precision    recall  f1-score   support\n",
      "\n",
      "          0       1.00      1.00      1.00        46\n",
      "          1       0.98      0.98      0.98        51\n",
      "          2       1.00      0.98      0.99        41\n",
      "          3       1.00      1.00      1.00        39\n",
      "          4       0.96      0.96      0.96        55\n",
      "          5       0.94      0.96      0.95        50\n",
      "          6       0.98      1.00      0.99        41\n",
      "          7       0.96      0.98      0.97        52\n",
      "          8       0.97      0.97      0.97        35\n",
      "          9       0.97      0.93      0.95        40\n",
      "\n",
      "avg / total       0.98      0.98      0.98       450\n",
      "\n"
     ]
    }
   ],
   "source": [
    "from sklearn.svm import SVC\n",
    "rbfsvc = SVC()\n",
    "rbfsvc.fit(X_train, y_train)\n",
    "y_predict = rbfsvc.predict(X_test)\n",
    "\n",
    "\n",
    "from sklearn.metrics import classification_report\n",
    "print(\"rbf SVC Accuracy:\", rbfsvc.score(X_test, y_test))\n",
    "print(classification_report(y_test, y_predict, target_names=[str(i) for i in range(10)]))"
   ]
  },
  {
   "cell_type": "code",
   "execution_count": 31,
   "metadata": {
    "collapsed": false
   },
   "outputs": [
    {
     "name": "stdout",
     "output_type": "stream",
     "text": [
      "linear SVC Accuracy: 0.982222222222\n",
      "             precision    recall  f1-score   support\n",
      "\n",
      "          0       1.00      1.00      1.00        46\n",
      "          1       0.96      1.00      0.98        51\n",
      "          2       1.00      1.00      1.00        41\n",
      "          3       0.97      1.00      0.99        39\n",
      "          4       1.00      1.00      1.00        55\n",
      "          5       0.98      0.98      0.98        50\n",
      "          6       1.00      1.00      1.00        41\n",
      "          7       1.00      0.98      0.99        52\n",
      "          8       0.97      0.89      0.93        35\n",
      "          9       0.93      0.95      0.94        40\n",
      "\n",
      "avg / total       0.98      0.98      0.98       450\n",
      "\n"
     ]
    }
   ],
   "source": [
    "rbfsvc = SVC(kernel=\"linear\")\n",
    "rbfsvc.fit(X_train, y_train)\n",
    "y_predict = rbfsvc.predict(X_test)\n",
    "\n",
    "\n",
    "\n",
    "print(\"linear SVC Accuracy:\", rbfsvc.score(X_test, y_test))\n",
    "print(classification_report(y_test, y_predict, target_names=[str(i) for i in range(10)]))"
   ]
  },
  {
   "cell_type": "code",
   "execution_count": 32,
   "metadata": {
    "collapsed": false
   },
   "outputs": [
    {
     "name": "stdout",
     "output_type": "stream",
     "text": [
      "sigmoid SVC Accuracy: 0.948888888889\n",
      "             precision    recall  f1-score   support\n",
      "\n",
      "          0       1.00      1.00      1.00        46\n",
      "          1       0.93      0.82      0.87        51\n",
      "          2       0.95      1.00      0.98        41\n",
      "          3       0.97      1.00      0.99        39\n",
      "          4       0.98      0.95      0.96        55\n",
      "          5       0.98      0.96      0.97        50\n",
      "          6       0.95      1.00      0.98        41\n",
      "          7       0.98      0.98      0.98        52\n",
      "          8       0.86      0.91      0.89        35\n",
      "          9       0.83      0.88      0.85        40\n",
      "\n",
      "avg / total       0.95      0.95      0.95       450\n",
      "\n"
     ]
    }
   ],
   "source": [
    "rbfsvc = SVC(kernel=\"sigmoid\")\n",
    "rbfsvc.fit(X_train, y_train)\n",
    "y_predict = rbfsvc.predict(X_test)\n",
    "\n",
    "\n",
    "\n",
    "print(\"sigmoid SVC Accuracy:\", rbfsvc.score(X_test, y_test))\n",
    "print(classification_report(y_test, y_predict, target_names=[str(i) for i in range(10)]))"
   ]
  },
  {
   "cell_type": "code",
   "execution_count": null,
   "metadata": {
    "collapsed": true
   },
   "outputs": [],
   "source": []
  }
 ],
 "metadata": {
  "kernelspec": {
   "display_name": "Python 3",
   "language": "python",
   "name": "python3"
  },
  "language_info": {
   "codemirror_mode": {
    "name": "ipython",
    "version": 3
   },
   "file_extension": ".py",
   "mimetype": "text/x-python",
   "name": "python",
   "nbconvert_exporter": "python",
   "pygments_lexer": "ipython3",
   "version": "3.5.1"
  }
 },
 "nbformat": 4,
 "nbformat_minor": 2
}
